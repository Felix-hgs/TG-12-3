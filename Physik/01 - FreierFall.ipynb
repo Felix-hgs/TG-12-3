{
 "cells": [
  {
   "cell_type": "code",
   "execution_count": null,
   "id": "585c35c9",
   "metadata": {
    "vscode": {
     "languageId": "plaintext"
    }
   },
   "outputs": [],
   "source": [
    "import math"
   ]
  }
 ],
 "metadata": {
  "language_info": {
   "name": "python"
  }
 },
 "nbformat": 4,
 "nbformat_minor": 5
}
