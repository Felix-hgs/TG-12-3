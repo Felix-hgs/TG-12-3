{
 "cells": [
  {
   "cell_type": "markdown",
   "id": "ac6e04f0",
   "metadata": {},
   "source": [
    "# Übung\n",
    "\n",
    "Wir werden demnächst die Ballbewegungen während eines Fußballspiels simulieren. Dazu werden wir Spieler mit individuellen Eigenschaften beschreiben. Auf dessen Grundlage können Pässe, Torschüsse, Einwürfe, Abstösse simuliert werden. Wo ist der Ball nach einer Aktion: beim Gegner, beim Mitspieler, im Tor, im Aus...\n",
    "\n",
    "Für einen Spieler sollen die folgenden Angaben gespeichert werden:\n",
    "- name\n",
    "- jahrgang\n",
    "- staerke\n",
    "- torschuss\n",
    "- motivation\n",
    "\n",
    "Stärke, Torschuss und Motivation sollen einen Wert natürlichen Wert zwischen 1 (schlecht) und 10 (sehr gut) haben. Der Konstruktur bekommt zu allen Attributen einen Wert übergeben.\n",
    "\n",
    "## Aufgabe 1\n",
    "Erstellen Sie ein Klassendiagramm zur Klasse `Spieler`. Legen Sie Attributnamen, Datentypen, Sichtbarkeit und Zusicherungen fest. Nutzen Sie dazu die Erweiterung UMLet (siehe unten).\n",
    "\n",
    "## Aufgabe 2\n",
    "Erstellen Sie in python die Klasse `Spieler`.\n"
   ]
  },
  {
   "cell_type": "markdown",
   "id": "8bb3a30d",
   "metadata": {},
   "source": [
    "# Exkurs UMLet\n",
    "Die Erweiterung UMLet in Visual Studio Code dient dazu, UML-Diagramme (z. B. Klassendiagramme, Sequenzdiagramme, Zustandsdiagramme usw.) direkt in VS Code zu erstellen und zu bearbeiten.\n",
    "\n",
    "-\tUMLet – UML Tool for Fast UML Diagrams\n",
    "-\tUnterstützt UMLet .uxf-Dateien, die man auch in der Desktop-App UMLet öffnen kann.\n",
    "-\tDiagramme können als Bild (PNG, SVG, PDF) exportiert werden.\n",
    "\n",
    "## Verwendung in VS Code:\n",
    "1.\tErweiterung „UMLet“ installieren.\n",
    "2.\tEine Datei mit der Endung .uxf oder .uml öffnen oder neu erstellen.\n",
    "3.\tIm Textbereich das UMLet-Format eingeben (z. B. für eine Klasse).\n",
    "4.\tDas Diagramm wird automatisch in einer Vorschau angezeigt.\n"
   ]
  },
  {
   "cell_type": "code",
   "execution_count": null,
   "id": "17fa55ed",
   "metadata": {},
   "outputs": [
    {
     "ename": "SyntaxError",
     "evalue": "invalid syntax (814890801.py, line 6)",
     "output_type": "error",
     "traceback": [
      "  \u001b[36mCell\u001b[39m\u001b[36m \u001b[39m\u001b[32mIn[1]\u001b[39m\u001b[32m, line 6\u001b[39m\n\u001b[31m    \u001b[39m\u001b[31mif staerke <0 or >10 :\u001b[39m\n                     ^\n\u001b[31mSyntaxError\u001b[39m\u001b[31m:\u001b[39m invalid syntax\n"
     ]
    }
   ],
   "source": [
    "class Spieler:\n",
    "\n",
    "    def __init__(self,name:str,jahrgang:int,staerke:int,torschuss:int,motivation:int):\n",
    "        self.name = name\n",
    "        self.jahrgang = jahrgang\n",
    "        if staerke <0 or staerke >10 :\n",
    "            raise ValueError(\"Staerke ist nicht zwischen 0-10\")\n",
    "        self.staerke = staerke\n",
    "        if torschuss <0 or torschuss >10 :\n",
    "            raise ValueError(\"Torschuss ist nicht zwischen 0-10\")\n",
    "        self.torschuss = torschuss\n",
    "\n",
    "    "
   ]
  }
 ],
 "metadata": {
  "kernelspec": {
   "display_name": "Python 3",
   "language": "python",
   "name": "python3"
  },
  "language_info": {
   "codemirror_mode": {
    "name": "ipython",
    "version": 3
   },
   "file_extension": ".py",
   "mimetype": "text/x-python",
   "name": "python",
   "nbconvert_exporter": "python",
   "pygments_lexer": "ipython3",
   "version": "3.12.1"
  }
 },
 "nbformat": 4,
 "nbformat_minor": 5
}
