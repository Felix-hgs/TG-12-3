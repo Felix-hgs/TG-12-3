{
 "cells": [
  {
   "cell_type": "markdown",
   "id": "8429f941",
   "metadata": {},
   "source": [
    "## Konstruktor / toString"
   ]
  },
  {
   "cell_type": "code",
   "execution_count": 1,
   "id": "ca3f90cf",
   "metadata": {},
   "outputs": [],
   "source": [
    "import math\n",
    "class Kreis:\n",
    "    def __init__(self,radius):\n",
    "        self.radius = radius\n",
    "    def berechneFlaeche(self):\n",
    "        return math.pi * self.radius**2\n",
    "    def berechneUmfang(self):\n",
    "        return 2.0 * math.pi * self.radius\n",
    "    def __str__(self):\n",
    "        return self.__class__.__name__ + \" r= \" + str(self.radius) + \" a= \" + \\\n",
    "            str(self.berechneFlaeche()) + \" u= \" + str(self.berechneUmfang())"
   ]
  },
  {
   "cell_type": "code",
   "execution_count": null,
   "id": "82111525",
   "metadata": {},
   "outputs": [],
   "source": []
  },
  {
   "cell_type": "code",
   "execution_count": null,
   "id": "38406daa",
   "metadata": {},
   "outputs": [],
   "source": [
    "k = Kreis(10.0);\n",
    "print(k.berechneFlaeche())\n",
    "print(str(k))\n",
    "\n",
    "k.radius = 20.0\n",
    "print(k)          # impliziter Aufruf von str(k)"
   ]
  },
  {
   "cell_type": "markdown",
   "id": "edcd224f",
   "metadata": {},
   "source": [
    "## Dekonstruktor"
   ]
  },
  {
   "cell_type": "code",
   "execution_count": 1,
   "id": "b4dab6b7",
   "metadata": {},
   "outputs": [],
   "source": [
    "class Roboter():\n",
    "    def __init__(self,name):\n",
    "        self.name = name\n",
    "        print(name + \" wurde erschaffen\")\n",
    "    def getName(self):\n",
    "        return self.name\n",
    "    def __del__(self):\n",
    "        print(self.name + \" wurde zerstört\")"
   ]
  },
  {
   "cell_type": "code",
   "execution_count": 2,
   "id": "18285e1f",
   "metadata": {},
   "outputs": [
    {
     "name": "stdout",
     "output_type": "stream",
     "text": [
      "Robby wurde erschaffen\n",
      "Robby wurde zerstört\n"
     ]
    }
   ],
   "source": [
    "robby = Roboter(\"Robby\")\n",
    "del robby\n",
    "#robby.getName()"
   ]
  },
  {
   "cell_type": "code",
   "execution_count": 3,
   "id": "a86befdf",
   "metadata": {},
   "outputs": [
    {
     "name": "stdout",
     "output_type": "stream",
     "text": [
      "Robby wurde erschaffen\n"
     ]
    },
    {
     "data": {
      "text/plain": [
       "'Robby'"
      ]
     },
     "execution_count": 3,
     "metadata": {},
     "output_type": "execute_result"
    }
   ],
   "source": [
    "# Wird das Objekt wirklich zerstört, oder nur die Referenz auf das Objekt gelöscht\n",
    "robby1 = Roboter(\"Robby\")\n",
    "robby2 = robby1\n",
    "del robby1\n",
    "robby2.getName()"
   ]
  },
  {
   "cell_type": "markdown",
   "id": "b048f248",
   "metadata": {},
   "source": [
    "## Kapselung"
   ]
  },
  {
   "cell_type": "code",
   "execution_count": null,
   "id": "a17ba269",
   "metadata": {},
   "outputs": [],
   "source": [
    "class Ampel(object):\n",
    "    def __init__(self):\n",
    "        self.__zustand = 'rot'\n",
    "\n",
    "    def schalten(self):\n",
    "        if self.__zustand == 'rot':\n",
    "            self.__zustand = 'rotgelb'\n",
    "        elif self.__zustand == 'rotgelb':\n",
    "            self.__zustand = 'gruen'\n",
    "        elif self.__zustand == 'gruen':\n",
    "            self.__zustand = 'gelb'\n",
    "        elif self.__zustand == 'gelb':\n",
    "            self.__zustand = 'rot'\n",
    "\n",
    "    def getLampen(self):\n",
    "        if self.__zustand == 'rot':\n",
    "            lampen = (True, False, False)\n",
    "        elif self.__zustand == 'rotgelb':\n",
    "            lampen = (True, True, False)\n",
    "        elif self.__zustand == 'gruen':\n",
    "            lampen = (False, False, True)\n",
    "        elif self.__zustand == 'gelb':\n",
    "            lampen = (False, True, False)\n",
    "        return lampen\n",
    "\n",
    "    def getZustand(self):\n",
    "        return self.__zustand\n",
    "\n",
    "    def setZustand(self, z):\n",
    "        self.__zustand = z"
   ]
  },
  {
   "cell_type": "code",
   "execution_count": null,
   "id": "fcc0f91f",
   "metadata": {},
   "outputs": [],
   "source": [
    "ampel = Ampel()\n",
    "ampel.schalten()\n",
    "print(ampel.getZustand())\n",
    "\n",
    "ampel.schalten()\n",
    "print(ampel.getZustand())"
   ]
  }
 ],
 "metadata": {
  "kernelspec": {
   "display_name": "Python 3",
   "language": "python",
   "name": "python3"
  },
  "language_info": {
   "codemirror_mode": {
    "name": "ipython",
    "version": 3
   },
   "file_extension": ".py",
   "mimetype": "text/x-python",
   "name": "python",
   "nbconvert_exporter": "python",
   "pygments_lexer": "ipython3",
   "version": "3.12.1"
  }
 },
 "nbformat": 4,
 "nbformat_minor": 5
}
